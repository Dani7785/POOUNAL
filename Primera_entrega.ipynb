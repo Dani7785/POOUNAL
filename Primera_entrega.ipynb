{
 "cells": [
  {
   "cell_type": "markdown",
   "metadata": {},
   "source": [
    "##  Pregunta 1: \n",
    "#### A la mamá de Juan le preguntan su edad, y contesta: tengo 3 hijos, pregúntele a Juan su edad. Alberto tiene 2/3 de la edad de Juan, Ana tiene 4/3 de la edad de Juan y mi edad es la suma de las tres. Hacer un algoritmo que muestre la edad de los cuatro"
   ]
  },
  {
   "cell_type": "code",
   "execution_count": 28,
   "metadata": {},
   "outputs": [
    {
     "name": "stdout",
     "output_type": "stream",
     "text": [
      "La mama de juan ya no esta con nosotros, pero tendria 180.0 años\n"
     ]
    }
   ],
   "source": [
    "def edad_mama_juan():\n",
    "  \n",
    "  edad_juan = int(input(\"Ingresa la edad de juan\"))\n",
    "  \n",
    "  if edad_juan <= 0: return \"La edad de juan no puede ser negativa ni 0\"\n",
    "  if edad_juan > 100: return \"La edad de juan no puede ser superior a 100 años\"\n",
    "  \n",
    "  edad_alberto = (2/3) * edad_juan\n",
    "  edad_ana = (4/3) * edad_juan\n",
    "  edad_mama_juan = (edad_juan + edad_alberto + edad_ana)\n",
    "  \n",
    "  if edad_mama_juan > 100: return f\"La mama de juan ya no esta con nosotros, pero tendria {edad_mama_juan} años\"\n",
    "  \n",
    "  return(f\"La mama de juan tiene {edad_mama_juan} años\")\n",
    "\n",
    "print(edad_mama_juan())\n"
   ]
  },
  {
   "cell_type": "markdown",
   "metadata": {},
   "source": [
    "## Pregunta 2:\n",
    "\n",
    "Hacer un seguimiento (prueba de escritorio) del siguiente grupo de instrucciones.\n",
    "<br>\n",
    "INICIO\n",
    "<br>\n",
    "  SUMA = 0\n",
    " <br>\n",
    " X = 20\n",
    " <br>\n",
    " SUMA = SUMA + X\n",
    " <br>\n",
    " Y = 40\n",
    " <br>\n",
    " X = X + Y ** 2\n",
    " <br>\n",
    " SUMA = SUMA + X / Y\n",
    " <br>\n",
    " ESCRIBA : “EL VALOR DE LA SUMA ES:”, SUMA\n",
    " <br>\n",
    "FIN_INICIO "
   ]
  },
  {
   "cell_type": "code",
   "execution_count": 29,
   "metadata": {},
   "outputs": [
    {
     "name": "stdout",
     "output_type": "stream",
     "text": [
      "el valor de la suma es 60.5\n"
     ]
    }
   ],
   "source": [
    "suma = 0\n",
    "x = 20\n",
    "suma = suma + x \n",
    "y = 40\n",
    "x = x + y ** 2\n",
    "suma = suma + x/y\n",
    "print(f\"el valor de la suma es {suma}\")"
   ]
  },
  {
   "cell_type": "markdown",
   "metadata": {},
   "source": [
    "## Pregunta 3:\n",
    "\n",
    "#### Un empleado trabaja 48 horas en la semana a razón de $5.000 hora. El porcentaje de retención en la fuente es del 12,5% del salario bruto. Se desea saber cuál es el salario bruto, la retención en la fuente y el salario neto del trabajador"
   ]
  },
  {
   "cell_type": "code",
   "execution_count": 30,
   "metadata": {},
   "outputs": [
    {
     "name": "stdout",
     "output_type": "stream",
     "text": [
      "El salario bruto del trabajador es de $240000, su retencion en la fuente es de $30000.0 y su salario neto es de $210000.0, valores por semana\n"
     ]
    }
   ],
   "source": [
    "horas_trabajadas = 48\n",
    "valor_hora = 5000\n",
    "retencion_fuente = 0.125\n",
    "\n",
    "salario_bruto = horas_trabajadas * valor_hora\n",
    "retencion_fuente = salario_bruto * retencion_fuente\n",
    "salario_neto = salario_bruto - retencion_fuente\n",
    "\n",
    "print(f\"El salario bruto del trabajador es de ${salario_bruto}, su retencion en la fuente es de ${retencion_fuente} y su salario neto es de ${salario_neto}, valores por semana\")"
   ]
  },
  {
   "cell_type": "markdown",
   "metadata": {},
   "source": [
    "## Pregunta 4:\n",
    "\n",
    "#### Elabore un algoritmo que lea un número y obtenga su cuadrado y su cubo."
   ]
  },
  {
   "cell_type": "code",
   "execution_count": 31,
   "metadata": {},
   "outputs": [
    {
     "name": "stdout",
     "output_type": "stream",
     "text": [
      "El numero ingresado es 34, su cuadrado es 1156 y su cubo es 39304\n"
     ]
    }
   ],
   "source": [
    "numero = int(input(\"Ingrese un numero entero\"))\n",
    "\n",
    "print(f\"El numero ingresado es {numero}, su cuadrado es {numero**2} y su cubo es {numero**3}\")"
   ]
  },
  {
   "cell_type": "markdown",
   "metadata": {},
   "source": [
    "## Pregunta 5:\n",
    "\n",
    "####  Dado el radio de un círculo. Haga un algoritmo que obtenga el área del círculo y la longitud de la circunferencia"
   ]
  },
  {
   "cell_type": "code",
   "execution_count": 32,
   "metadata": {},
   "outputs": [
    {
     "name": "stdout",
     "output_type": "stream",
     "text": [
      "El area del circulo es 5808.804816487527 cm y la longitud de la circunferencia es 270.1769682087222 cm\n"
     ]
    }
   ],
   "source": [
    "from math import pi\n",
    "\n",
    "radio = float(input(\"Ingrese el radio de un circulo en cm\"))\n",
    "\n",
    "area_circulo = pi * radio**2\n",
    "longitud_circunferencia = 2 * pi * radio\n",
    "\n",
    "print(f\"El area del circulo es {area_circulo} cm y la longitud de la circunferencia es {longitud_circunferencia} cm\")"
   ]
  }
 ],
 "metadata": {
  "kernelspec": {
   "display_name": "Python 3",
   "language": "python",
   "name": "python3"
  },
  "language_info": {
   "codemirror_mode": {
    "name": "ipython",
    "version": 3
   },
   "file_extension": ".py",
   "mimetype": "text/x-python",
   "name": "python",
   "nbconvert_exporter": "python",
   "pygments_lexer": "ipython3",
   "version": "3.12.2"
  }
 },
 "nbformat": 4,
 "nbformat_minor": 2
}
